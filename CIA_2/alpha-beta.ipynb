{
 "cells": [
  {
   "cell_type": "code",
   "execution_count": 1,
   "metadata": {},
   "outputs": [],
   "source": [
    "import math\n",
    "\n",
    "def alphabeta(depth, nodeIndex, isMaximizingPlayer, values, alpha, beta, maxDepth):\n",
    "    \n",
    "    if depth == maxDepth:\n",
    "        print(f\"Leaf node reached at depth {depth}, returning value: {values[nodeIndex]}\")\n",
    "        return values[nodeIndex]\n",
    "    \n",
    "    if isMaximizingPlayer:\n",
    "        best = -math.inf\n",
    "        print(f\"Maximizer at depth {depth}, alpha: {alpha}, beta: {beta}\")\n",
    "\n",
    "        for i in range(2):\n",
    "            value = alphabeta(depth + 1, nodeIndex * 2 + i, False, values, alpha, beta, maxDepth)\n",
    "            print(f\"Maximizer at depth {depth}, comparing value: {value} with best: {best}, alpha: {alpha}, beta: {beta}\")\n",
    "            best = max(best, value)\n",
    "            alpha = max(alpha, best)\n",
    "            \n",
    "            # Alpha-Beta Pruning\n",
    "            if beta <= alpha:\n",
    "                print(f\"Pruning at depth {depth} with alpha: {alpha} and beta: {beta}\")\n",
    "                break\n",
    "        print(f\"Maximizer at depth {depth}, selected best: {best}\")\n",
    "        return best\n",
    "    else:\n",
    "        best = math.inf\n",
    "        print(f\"Minimizer at depth {depth}, alpha: {alpha}, beta: {beta}\")\n",
    "        \n",
    "        for i in range(2):\n",
    "            value = alphabeta(depth + 1, nodeIndex * 2 + i, True, values, alpha, beta, maxDepth)\n",
    "            print(f\"Minimizer at depth {depth}, comparing value: {value} with best: {best}, alpha: {alpha}, beta: {beta}\")\n",
    "            best = min(best, value)\n",
    "            beta = min(beta, best)\n",
    "            \n",
    "            # Alpha-Beta Pruning\n",
    "            if beta <= alpha:\n",
    "                print(f\"Pruning at depth {depth} with alpha: {alpha} and beta: {beta}\")\n",
    "                break\n",
    "        print(f\"Minimizer at depth {depth}, selected best: {best}\")\n",
    "        return best\n"
   ]
  },
  {
   "cell_type": "code",
   "execution_count": 2,
   "metadata": {},
   "outputs": [
    {
     "name": "stdout",
     "output_type": "stream",
     "text": [
      "Maximizer at depth 0, alpha: -inf, beta: inf\n",
      "Minimizer at depth 1, alpha: -inf, beta: inf\n",
      "Maximizer at depth 2, alpha: -inf, beta: inf\n",
      "Leaf node reached at depth 3, returning value: 10\n",
      "Maximizer at depth 2, comparing value: 10 with best: -inf, alpha: -inf, beta: inf\n",
      "Leaf node reached at depth 3, returning value: 9\n",
      "Maximizer at depth 2, comparing value: 9 with best: 10, alpha: 10, beta: inf\n",
      "Maximizer at depth 2, selected best: 10\n",
      "Minimizer at depth 1, comparing value: 10 with best: inf, alpha: -inf, beta: inf\n",
      "Maximizer at depth 2, alpha: -inf, beta: 10\n",
      "Leaf node reached at depth 3, returning value: 14\n",
      "Maximizer at depth 2, comparing value: 14 with best: -inf, alpha: -inf, beta: 10\n",
      "Pruning at depth 2 with alpha: 14 and beta: 10\n",
      "Maximizer at depth 2, selected best: 14\n",
      "Minimizer at depth 1, comparing value: 14 with best: 10, alpha: -inf, beta: 10\n",
      "Minimizer at depth 1, selected best: 10\n",
      "Maximizer at depth 0, comparing value: 10 with best: -inf, alpha: -inf, beta: inf\n",
      "Minimizer at depth 1, alpha: 10, beta: inf\n",
      "Maximizer at depth 2, alpha: 10, beta: inf\n",
      "Leaf node reached at depth 3, returning value: 5\n",
      "Maximizer at depth 2, comparing value: 5 with best: -inf, alpha: 10, beta: inf\n",
      "Leaf node reached at depth 3, returning value: 4\n",
      "Maximizer at depth 2, comparing value: 4 with best: 5, alpha: 10, beta: inf\n",
      "Maximizer at depth 2, selected best: 5\n",
      "Minimizer at depth 1, comparing value: 5 with best: inf, alpha: 10, beta: inf\n",
      "Pruning at depth 1 with alpha: 10 and beta: 5\n",
      "Minimizer at depth 1, selected best: 5\n",
      "Maximizer at depth 0, comparing value: 5 with best: 10, alpha: 10, beta: inf\n",
      "Maximizer at depth 0, selected best: 10\n",
      "Optimal value: 10\n"
     ]
    }
   ],
   "source": [
    "\n",
    "# Example usage:\n",
    "maxDepth = 3\n",
    "#leaf-nodevalues\n",
    "values = [10, 9, 14, 18, 5, 4, 50, 3]\n",
    "print(f\"Optimal value: {alphabeta(0, 0, True, values, -math.inf, math.inf, int(maxDepth))}\")\n"
   ]
  },
  {
   "cell_type": "code",
   "execution_count": 3,
   "metadata": {},
   "outputs": [
    {
     "name": "stdout",
     "output_type": "stream",
     "text": [
      "Maximizer at depth 0, alpha: -inf, beta: inf\n",
      "Minimizer at depth 1, alpha: -inf, beta: inf\n",
      "Maximizer at depth 2, alpha: -inf, beta: inf\n",
      "Leaf node reached at depth 3, returning value: -1\n",
      "Maximizer at depth 2, comparing value: -1 with best: -inf, alpha: -inf, beta: inf\n",
      "Leaf node reached at depth 3, returning value: 4\n",
      "Maximizer at depth 2, comparing value: 4 with best: -1, alpha: -1, beta: inf\n",
      "Maximizer at depth 2, selected best: 4\n",
      "Minimizer at depth 1, comparing value: 4 with best: inf, alpha: -inf, beta: inf\n",
      "Maximizer at depth 2, alpha: -inf, beta: 4\n",
      "Leaf node reached at depth 3, returning value: 2\n",
      "Maximizer at depth 2, comparing value: 2 with best: -inf, alpha: -inf, beta: 4\n",
      "Leaf node reached at depth 3, returning value: 6\n",
      "Maximizer at depth 2, comparing value: 6 with best: 2, alpha: 2, beta: 4\n",
      "Pruning at depth 2 with alpha: 6 and beta: 4\n",
      "Maximizer at depth 2, selected best: 6\n",
      "Minimizer at depth 1, comparing value: 6 with best: 4, alpha: -inf, beta: 4\n",
      "Minimizer at depth 1, selected best: 4\n",
      "Maximizer at depth 0, comparing value: 4 with best: -inf, alpha: -inf, beta: inf\n",
      "Minimizer at depth 1, alpha: 4, beta: inf\n",
      "Maximizer at depth 2, alpha: 4, beta: inf\n",
      "Leaf node reached at depth 3, returning value: -3\n",
      "Maximizer at depth 2, comparing value: -3 with best: -inf, alpha: 4, beta: inf\n",
      "Leaf node reached at depth 3, returning value: -5\n",
      "Maximizer at depth 2, comparing value: -5 with best: -3, alpha: 4, beta: inf\n",
      "Maximizer at depth 2, selected best: -3\n",
      "Minimizer at depth 1, comparing value: -3 with best: inf, alpha: 4, beta: inf\n",
      "Pruning at depth 1 with alpha: 4 and beta: -3\n",
      "Minimizer at depth 1, selected best: -3\n",
      "Maximizer at depth 0, comparing value: -3 with best: 4, alpha: 4, beta: inf\n",
      "Maximizer at depth 0, selected best: 4\n",
      "Optimal value: 4\n"
     ]
    }
   ],
   "source": [
    "values = [-1,4,2,6,-3,-5,0,7]\n",
    "print(f\"Optimal value: {alphabeta(0, 0, True, values, -math.inf, math.inf, int(maxDepth))}\")\n"
   ]
  }
 ],
 "metadata": {
  "kernelspec": {
   "display_name": "base",
   "language": "python",
   "name": "python3"
  },
  "language_info": {
   "codemirror_mode": {
    "name": "ipython",
    "version": 3
   },
   "file_extension": ".py",
   "mimetype": "text/x-python",
   "name": "python",
   "nbconvert_exporter": "python",
   "pygments_lexer": "ipython3",
   "version": "3.11.7"
  }
 },
 "nbformat": 4,
 "nbformat_minor": 2
}
