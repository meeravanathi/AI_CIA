{
 "cells": [
  {
   "cell_type": "code",
   "execution_count": 14,
   "id": "05cec40b-b73e-4aba-ab36-a5552b86d28d",
   "metadata": {},
   "outputs": [],
   "source": [
    "import math\n",
    "def minimax(depth, nodeIndex, isMaximizingPlayer, values, maxDepth):\n",
    "    #terminal node(leaf nodes)\n",
    "    if depth == maxDepth:\n",
    "        print(f\"Leaf node reached at depth {depth}, returning value: {values[nodeIndex]}\")\n",
    "        return values[nodeIndex]\n",
    "\n",
    "    if isMaximizingPlayer:\n",
    "        best = -math.inf\n",
    "\n",
    "        #print(f\"Maximizer at depth {depth}, evaluating children of node {nodeIndex}\")\n",
    "        print(f\"Maximizer at depth {depth}\")\n",
    "        #maximizer's choice (MAX player)\n",
    "        for i in range(2):\n",
    "            value = minimax(depth + 1, nodeIndex * 2 + i, False, values, maxDepth)\n",
    "            print(f\"Maximizer at depth {depth}, comparing value: {value} with best: {best}\")\n",
    "            best = max(best, value)\n",
    "        print(f\"Maximizer at depth {depth}, selected best: {best}\")\n",
    "        return best\n",
    "    else:\n",
    "        best = math.inf\n",
    "\n",
    "        #print(f\"Minimizer at depth {depth}, evaluating children of node {nodeIndex}\")\n",
    "        print(f\"Minimizer at depth {depth}\")\n",
    "        #minimizer's choice (MIN player)\n",
    "        for i in range(2):\n",
    "            value = minimax(depth + 1, nodeIndex * 2 + i, True, values, maxDepth)\n",
    "            print(f\"Minimizer at depth {depth}, comparing value: {value} with best: {best}\")\n",
    "            best = min(best, value)\n",
    "        print(f\"Minimizer at depth {depth}, selected best: {best}\")\n",
    "        return best"
   ]
  },
  {
   "cell_type": "code",
   "execution_count": 15,
   "id": "a024d5f1-080d-4263-a82f-95a8f22064f4",
   "metadata": {},
   "outputs": [
    {
     "name": "stdout",
     "output_type": "stream",
     "text": [
      "Maximizer at depth 0\n",
      "Minimizer at depth 1\n",
      "Maximizer at depth 2\n",
      "Leaf node reached at depth 3, returning value: -1\n",
      "Maximizer at depth 2, comparing value: -1 with best: -inf\n",
      "Leaf node reached at depth 3, returning value: 4\n",
      "Maximizer at depth 2, comparing value: 4 with best: -1\n",
      "Maximizer at depth 2, selected best: 4\n",
      "Minimizer at depth 1, comparing value: 4 with best: inf\n",
      "Maximizer at depth 2\n",
      "Leaf node reached at depth 3, returning value: 2\n",
      "Maximizer at depth 2, comparing value: 2 with best: -inf\n",
      "Leaf node reached at depth 3, returning value: 6\n",
      "Maximizer at depth 2, comparing value: 6 with best: 2\n",
      "Maximizer at depth 2, selected best: 6\n",
      "Minimizer at depth 1, comparing value: 6 with best: 4\n",
      "Minimizer at depth 1, selected best: 4\n",
      "Maximizer at depth 0, comparing value: 4 with best: -inf\n",
      "Minimizer at depth 1\n",
      "Maximizer at depth 2\n",
      "Leaf node reached at depth 3, returning value: -3\n",
      "Maximizer at depth 2, comparing value: -3 with best: -inf\n",
      "Leaf node reached at depth 3, returning value: -5\n",
      "Maximizer at depth 2, comparing value: -5 with best: -3\n",
      "Maximizer at depth 2, selected best: -3\n",
      "Minimizer at depth 1, comparing value: -3 with best: inf\n",
      "Maximizer at depth 2\n",
      "Leaf node reached at depth 3, returning value: 0\n",
      "Maximizer at depth 2, comparing value: 0 with best: -inf\n",
      "Leaf node reached at depth 3, returning value: 7\n",
      "Maximizer at depth 2, comparing value: 7 with best: 0\n",
      "Maximizer at depth 2, selected best: 7\n",
      "Minimizer at depth 1, comparing value: 7 with best: -3\n",
      "Minimizer at depth 1, selected best: -3\n",
      "Maximizer at depth 0, comparing value: -3 with best: 4\n",
      "Maximizer at depth 0, selected best: 4\n",
      "\n",
      "The optimal value is: 4\n"
     ]
    }
   ],
   "source": [
    "#the depth of the game\n",
    "maxDepth = 3\n",
    "#leaf-nodevalues\n",
    "#values = [10, 9, 14, 18, 5, 4, 50, 3]\n",
    "values = [-1,4,2,6,-3,-5,0,7]\n",
    "optimalValue = minimax(0, 0, True, values, maxDepth)\n",
    "\n",
    "print(\"\\nThe optimal value is:\", optimalValue)"
   ]
  }
 ],
 "metadata": {
  "kernelspec": {
   "display_name": "Python 3 (ipykernel)",
   "language": "python",
   "name": "python3"
  },
  "language_info": {
   "codemirror_mode": {
    "name": "ipython",
    "version": 3
   },
   "file_extension": ".py",
   "mimetype": "text/x-python",
   "name": "python",
   "nbconvert_exporter": "python",
   "pygments_lexer": "ipython3",
   "version": "3.9.19"
  }
 },
 "nbformat": 4,
 "nbformat_minor": 5
}
